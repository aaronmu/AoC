{
 "cells": [
  {
   "cell_type": "markdown",
   "metadata": {},
   "source": [
    "# Day 2: Password Philosophy\n",
    "\n",
    "Your input is a list of passwords and the corporate policy when that password was set.\n",
    "\n",
    "    1-3 a: abcde\n",
    "    1-3 b: cdefg\n",
    "    2-9 c: ccccccccc\n",
    "\n",
    "## Part 1\n",
    "\n",
    "Each line gives the password policy and then the password. The password policy indicates the lowest and highest number of times a given letter must appear for the password to be valid. For example, 1-3 a means that the password must contain a at least 1 time and at most 3 times.\n",
    "\n",
    "How many passwords are valid according to their policies?\n",
    "\n",
    "## Solution\n",
    "\n",
    "Parsing the input is harder than solving the problem. Let's start by defining a type that can represent this input."
   ]
  },
  {
   "cell_type": "code",
   "execution_count": 1,
   "metadata": {},
   "source": [
    "#!fsharp\n",
    "type Input = {\n",
    "    FstNumber: int\n",
    "    SndNumber: int\n",
    "    Letter: char\n",
    "    Password: string\n",
    "}\n",
    "\n",
    "// Some helper functions to make working with values of type Input easier.\n",
    "module Input =\n",
    "    let create fstNumber sndNumber letter password = {\n",
    "        FstNumber = fstNumber\n",
    "        SndNumber = sndNumber\n",
    "        Letter = letter\n",
    "        Password = password\n",
    "    }\n",
    ""
   ],
   "outputs": []
  },
  {
   "cell_type": "markdown",
   "metadata": {},
   "source": [
    "The password policy indicates the lowest and highest number of times a given letter must appear for the password to be valid. For example, 1-3 a means that the password must contain a at least 1 time and at most 3 times."
   ]
  },
  {
   "cell_type": "code",
   "execution_count": 1,
   "metadata": {},
   "source": [
    "#!fsharp\n",
    "let policy ({ FstNumber = fstNumber; SndNumber = sndNumber; Letter = letter; Password = password }: Input): bool =\n",
    "    password\n",
    "    |> Seq.sumBy (fun char -> if char = letter then 1 else 0)\n",
    "    |> fun sum -> sum >= fstNumber && sum <= sndNumber\n",
    "\n",
    "// Test the policy using the example provided in the puzzle.\n",
    "[\n",
    "    {| Input = { FstNumber = 1; SndNumber = 3; Letter = 'a'; Password = \"abcde\" }; ExpectedValid = true |}\n",
    "    {| Input = { FstNumber = 1; SndNumber = 3; Letter = 'b'; Password = \"cdefg\" }; ExpectedValid = false |}\n",
    "    {| Input = { FstNumber = 2; SndNumber = 9; Letter = 'c'; Password = \"ccccccccc\" }; ExpectedValid = true |}\n",
    "] |> Seq.map (fun test -> \n",
    "    let actual = policy test.Input\n",
    "    let result = if actual = test.ExpectedValid then \"OK\" else \"NOK\"\n",
    "    {| test with ActualValid = policy test.Input; Result = result |})"
   ],
   "outputs": [
    {
     "output_type": "execute_result",
     "data": {
      "text/html": "<table><thead><tr><th><i>index</i></th><th>ActualValid</th><th>ExpectedValid</th><th>Input</th><th>Result</th></tr></thead><tbody><tr><td>0</td><td><div class=\"dni-plaintext\">True</div></td><td><div class=\"dni-plaintext\">True</div></td><td><div class=\"dni-plaintext\">{ FstNumber = 1\n  SndNumber = 3\n  Letter = &#39;a&#39;\n  Password = &quot;abcde&quot; }</div></td><td><div class=\"dni-plaintext\">OK</div></td></tr><tr><td>1</td><td><div class=\"dni-plaintext\">False</div></td><td><div class=\"dni-plaintext\">False</div></td><td><div class=\"dni-plaintext\">{ FstNumber = 1\n  SndNumber = 3\n  Letter = &#39;b&#39;\n  Password = &quot;cdefg&quot; }</div></td><td><div class=\"dni-plaintext\">OK</div></td></tr><tr><td>2</td><td><div class=\"dni-plaintext\">True</div></td><td><div class=\"dni-plaintext\">True</div></td><td><div class=\"dni-plaintext\">{ FstNumber = 2\n  SndNumber = 9\n  Letter = &#39;c&#39;\n  Password = &quot;ccccccccc&quot; }</div></td><td><div class=\"dni-plaintext\">OK</div></td></tr></tbody></table>"
     },
     "execution_count": 1,
     "metadata": {}
    }
   ]
  },
  {
   "cell_type": "markdown",
   "metadata": {},
   "source": [
    "Now that our tests pass, let's try out our solution on the actual input. The input is provided in a txt file and contains 1000 lines.\n",
    "\n",
    "> 9-12 q: qqqxhnhdmqqqqjz\n",
    "> 12-16 z: zzzzzznwlzzjzdzf\n",
    "> 4-7 s: sssgssw\n",
    "> 13-14 p: pppqzpppppppfpppp\n",
    "> 2-9 m: jknmmmmmmdmmmrm\n",
    "> 4-5 b: bbbrb\n",
    "> 2-10 c: hcpzpjclzc\n",
    "> 7-11 f: ffpffffgfrff\n",
    "> ...\n",
    "\n",
    "Let's write a parser that takes this blob of text and converts it to a value of type ``Input seq``.\n",
    ""
   ]
  },
  {
   "cell_type": "code",
   "execution_count": 1,
   "metadata": {},
   "source": [
    "#!fsharp\n",
    "open System.Text.RegularExpressions\n",
    "\n",
    "let (|Regex|_|) pattern input =\n",
    "    let m = Regex.Match(input, pattern)\n",
    "    if m.Success then Some(List.tail [ for g in m.Groups -> g.Value ])\n",
    "    else None\n",
    "\n",
    "let parseLine = function\n",
    "    | Regex @\"([0-9]+)-([0-9]+) ([a-z]): ([a-z]+)\" [ first; second; letter; password ] ->\n",
    "        Some (Input.create (int first) (int second) (char letter) (string password))\n",
    "    | \"\" -> None\n",
    "    | x -> failwithf \"Failed to parse line %s\" x\n",
    "\n",
    "// Test the regex parseLine function using the example provided in the puzzle.\n",
    "[\n",
    "    {| Input = \"1-3 a: abcde\"; ExpectedOutput = { FstNumber = 1; SndNumber = 3; Letter = 'a'; Password = \"abcde\" } |}\n",
    "    {| Input = \"1-3 b: cdefg\"; ExpectedOutput = { FstNumber = 1; SndNumber = 3; Letter = 'b'; Password = \"cdefg\" } |}\n",
    "    {| Input = \"2-9 c: ccccccccc\"; ExpectedOutput = { FstNumber = 2; SndNumber = 9; Letter = 'c'; Password = \"ccccccccc\" } |}\n",
    "] |> Seq.map (fun test -> \n",
    "    let actualOutput = parseLine test.Input\n",
    "    let result = if actualOutput = Some test.ExpectedOutput then \"OK\" else \"NOK\"\n",
    "    {| test with ActualOutput = actualOutput; Result = result |})\n",
    ""
   ],
   "outputs": [
    {
     "output_type": "execute_result",
     "data": {
      "text/html": "<table><thead><tr><th><i>index</i></th><th>ActualOutput</th><th>ExpectedOutput</th><th>Input</th><th>Result</th></tr></thead><tbody><tr><td>0</td><td><div class=\"dni-plaintext\">Some({ FstNumber = 1\n  SndNumber = 3\n  Letter = &#39;a&#39;\n  Password = &quot;abcde&quot; })</div></td><td><div class=\"dni-plaintext\">{ FstNumber = 1\n  SndNumber = 3\n  Letter = &#39;a&#39;\n  Password = &quot;abcde&quot; }</div></td><td><div class=\"dni-plaintext\">1-3 a: abcde</div></td><td><div class=\"dni-plaintext\">OK</div></td></tr><tr><td>1</td><td><div class=\"dni-plaintext\">Some({ FstNumber = 1\n  SndNumber = 3\n  Letter = &#39;b&#39;\n  Password = &quot;cdefg&quot; })</div></td><td><div class=\"dni-plaintext\">{ FstNumber = 1\n  SndNumber = 3\n  Letter = &#39;b&#39;\n  Password = &quot;cdefg&quot; }</div></td><td><div class=\"dni-plaintext\">1-3 b: cdefg</div></td><td><div class=\"dni-plaintext\">OK</div></td></tr><tr><td>2</td><td><div class=\"dni-plaintext\">Some({ FstNumber = 2\n  SndNumber = 9\n  Letter = &#39;c&#39;\n  Password = &quot;ccccccccc&quot; })</div></td><td><div class=\"dni-plaintext\">{ FstNumber = 2\n  SndNumber = 9\n  Letter = &#39;c&#39;\n  Password = &quot;ccccccccc&quot; }</div></td><td><div class=\"dni-plaintext\">2-9 c: ccccccccc</div></td><td><div class=\"dni-plaintext\">OK</div></td></tr></tbody></table>"
     },
     "execution_count": 1,
     "metadata": {}
    }
   ]
  },
  {
   "cell_type": "markdown",
   "metadata": {},
   "source": [
    "Let's solve the puzzle using the actual input."
   ]
  },
  {
   "cell_type": "code",
   "execution_count": 1,
   "metadata": {},
   "source": [
    "#!fsharp\n",
    "let puzzleInputUrl = \"https://raw.githubusercontent.com/aaronmu/AoC/main/puzzle-input/day2.input\""
   ],
   "outputs": []
  },
  {
   "cell_type": "code",
   "execution_count": 1,
   "metadata": {},
   "source": [
    "#!fsharp\n",
    "#r \"nuget: FSharp.Data\"\n",
    "\n",
    "open FSharp.Data\n",
    "open System\n",
    "    \n",
    "let parseInput (str: string) =\n",
    "    str.Split \"\\n\" |> Seq.choose parseLine\n",
    "\n",
    "puzzleInputUrl\n",
    "|> Http.RequestString\n",
    "|> parseInput\n",
    "|> Seq.filter policy\n",
    "|> Seq.length"
   ],
   "outputs": [
    {
     "output_type": "execute_result",
     "data": {
      "text/html": "<div class=\"dni-plaintext\">569</div>"
     },
     "execution_count": 1,
     "metadata": {}
    }
   ]
  },
  {
   "cell_type": "markdown",
   "metadata": {},
   "source": [
    "## Part 2\n",
    "\n",
    "Each policy actually describes two positions in the password, where 1 means the first character, 2 means the second character, and so on. (Be careful; Toboggan Corporate Policies have no concept of \"index zero\"!) Exactly one of these positions must contain the given letter. Other occurrences of the letter are irrelevant for the purposes of policy enforcement."
   ]
  },
  {
   "cell_type": "code",
   "execution_count": 1,
   "metadata": {},
   "source": [
    "#!fsharp\n",
    "module Seq =\n",
    "    // item1 helps with 1 based indexes.\n",
    "    let item1 index = Seq.item (index - 1)\n",
    "\n",
    "let policy2 ({ FstNumber = fstNumber; SndNumber = sndNumber; Letter = letter; Password = password }: Input): bool =\n",
    "    let letterAtFirstPos = Seq.item1 fstNumber password\n",
    "    let letterAtSecondPos = Seq.item1 sndNumber password\n",
    "    (letterAtFirstPos = letter) <> (letterAtSecondPos = letter)\n",
    "\n",
    "    // Test the policy using the example provided in the puzzle.\n",
    "[\n",
    "    {| Input = { FstNumber = 1; SndNumber = 3; Letter = 'a'; Password = \"abcde\" }; ExpectedValid = true |}\n",
    "    {| Input = { FstNumber = 1; SndNumber = 3; Letter = 'b'; Password = \"cdefg\" }; ExpectedValid = false |}\n",
    "    {| Input = { FstNumber = 2; SndNumber = 9; Letter = 'c'; Password = \"ccccccccc\" }; ExpectedValid = false |}\n",
    "] |> Seq.map (fun test -> \n",
    "    let actual = policy2 test.Input\n",
    "    let result = if actual = test.ExpectedValid then \"OK\" else \"NOK\"\n",
    "    {| test with ActualValid = policy test.Input; Result = result |})"
   ],
   "outputs": [
    {
     "output_type": "execute_result",
     "data": {
      "text/html": "<table><thead><tr><th><i>index</i></th><th>ActualValid</th><th>ExpectedValid</th><th>Input</th><th>Result</th></tr></thead><tbody><tr><td>0</td><td><div class=\"dni-plaintext\">True</div></td><td><div class=\"dni-plaintext\">True</div></td><td><div class=\"dni-plaintext\">{ FstNumber = 1\n  SndNumber = 3\n  Letter = &#39;a&#39;\n  Password = &quot;abcde&quot; }</div></td><td><div class=\"dni-plaintext\">OK</div></td></tr><tr><td>1</td><td><div class=\"dni-plaintext\">False</div></td><td><div class=\"dni-plaintext\">False</div></td><td><div class=\"dni-plaintext\">{ FstNumber = 1\n  SndNumber = 3\n  Letter = &#39;b&#39;\n  Password = &quot;cdefg&quot; }</div></td><td><div class=\"dni-plaintext\">OK</div></td></tr><tr><td>2</td><td><div class=\"dni-plaintext\">True</div></td><td><div class=\"dni-plaintext\">False</div></td><td><div class=\"dni-plaintext\">{ FstNumber = 2\n  SndNumber = 9\n  Letter = &#39;c&#39;\n  Password = &quot;ccccccccc&quot; }</div></td><td><div class=\"dni-plaintext\">OK</div></td></tr></tbody></table>"
     },
     "execution_count": 1,
     "metadata": {}
    }
   ]
  },
  {
   "cell_type": "markdown",
   "metadata": {},
   "source": [
    "We can reuse most of the part 1 functions to compose our part 2 solution."
   ]
  },
  {
   "cell_type": "code",
   "execution_count": 1,
   "metadata": {},
   "source": [
    "#!fsharp\n",
    "puzzleInputUrl\n",
    "|> Http.RequestString\n",
    "|> parseInput\n",
    "|> Seq.filter policy2 // note that we use the policy2 function here instead of the original policy\n",
    "|> Seq.length"
   ],
   "outputs": [
    {
     "output_type": "execute_result",
     "data": {
      "text/html": "<div class=\"dni-plaintext\">346</div>"
     },
     "execution_count": 1,
     "metadata": {}
    }
   ]
  },
  {
   "cell_type": "markdown",
   "metadata": {},
   "source": [
    "## FParsec\n",
    "\n",
    "I've been eager to learn FParsec for a long time but haven't really gotten to it. Advent of Code seems like a great opportunity to practice."
   ]
  },
  {
   "cell_type": "code",
   "execution_count": 1,
   "metadata": {},
   "source": [
    "#!fsharp\n",
    "#r \"nuget: FParsec\"\n",
    "\n",
    "open FParsec\n",
    "\n",
    "let fparse (x: string) =\n",
    "    let ws = spaces\n",
    "    let str x = pstring x .>> ws\n",
    "    let number = pint32 .>> ws\n",
    "    let matchLetter = letter .>> ws\n",
    "\n",
    "    let parser = \n",
    "        many (\n",
    "            ws >>.                      // skip whitespace\n",
    "            number .>>                  // collect a number\n",
    "            str \"-\" .>>.                // we expect the str \"-\"\n",
    "            number .>>.                 // collect a number\n",
    "            matchLetter .>>             // collect a single letter\n",
    "            str \":\" .>>.                // we expect the str \":\"\n",
    "            manySatisfy isLetter .>>    // collect a sequence of letters\n",
    "            ws                          // skip whitespace\n",
    "        )\n",
    "\n",
    "\n",
    "    // After running the parser, we turn collected value into a CheckPassword.\n",
    "    match run parser x with\n",
    "    | Success (results, _, _) ->\n",
    "        seq {\n",
    "            for (((min, max), theLetter), password) in results do\n",
    "                Input.create min max theLetter password\n",
    "        }\n",
    "    | Failure (errorMsg, _, _) -> failwith errorMsg\n",
    "\n",
    "// Test the FParsec parser using the example provided in the puzzle.\n",
    "// Note that this is the same \"testsuite\" used for testing the regular expression parser.\n",
    "[\n",
    "    {| Input = \"1-3 a: abcde\"; ExpectedOutput = [ { FstNumber = 1; SndNumber = 3; Letter = 'a'; Password = \"abcde\" } ] |}\n",
    "    {| Input = \"1-3 b: cdefg\"; ExpectedOutput = [ { FstNumber = 1; SndNumber = 3; Letter = 'b'; Password = \"cdefg\" } ] |}\n",
    "    {| Input = \"2-9 c: ccccccccc\"; ExpectedOutput = [ { FstNumber = 2; SndNumber = 9; Letter = 'c'; Password = \"ccccccccc\" } ] |}\n",
    "] |> Seq.map (fun test -> \n",
    "    let actualOutput = fparse test.Input\n",
    "    let result = if (List.ofSeq actualOutput) = test.ExpectedOutput then \"OK\" else \"NOK\"\n",
    "    {| test with ActualOutput = actualOutput; Result = result |})"
   ],
   "outputs": [
    {
     "output_type": "execute_result",
     "data": {
      "text/html": "<table><thead><tr><th><i>index</i></th><th>ActualOutput</th><th>ExpectedOutput</th><th>Input</th><th>Result</th></tr></thead><tbody><tr><td>0</td><td><div class=\"dni-plaintext\">[ { FstNumber = 1\n  SndNumber = 3\n  Letter = &#39;a&#39;\n  Password = &quot;abcde&quot; } ]</div></td><td><div class=\"dni-plaintext\">[ { FstNumber = 1\n  SndNumber = 3\n  Letter = &#39;a&#39;\n  Password = &quot;abcde&quot; } ]</div></td><td><div class=\"dni-plaintext\">1-3 a: abcde</div></td><td><div class=\"dni-plaintext\">OK</div></td></tr><tr><td>1</td><td><div class=\"dni-plaintext\">[ { FstNumber = 1\n  SndNumber = 3\n  Letter = &#39;b&#39;\n  Password = &quot;cdefg&quot; } ]</div></td><td><div class=\"dni-plaintext\">[ { FstNumber = 1\n  SndNumber = 3\n  Letter = &#39;b&#39;\n  Password = &quot;cdefg&quot; } ]</div></td><td><div class=\"dni-plaintext\">1-3 b: cdefg</div></td><td><div class=\"dni-plaintext\">OK</div></td></tr><tr><td>2</td><td><div class=\"dni-plaintext\">[ { FstNumber = 2\n  SndNumber = 9\n  Letter = &#39;c&#39;\n  Password = &quot;ccccccccc&quot; } ]</div></td><td><div class=\"dni-plaintext\">[ { FstNumber = 2\n  SndNumber = 9\n  Letter = &#39;c&#39;\n  Password = &quot;ccccccccc&quot; } ]</div></td><td><div class=\"dni-plaintext\">2-9 c: ccccccccc</div></td><td><div class=\"dni-plaintext\">OK</div></td></tr></tbody></table>"
     },
     "execution_count": 1,
     "metadata": {}
    }
   ]
  },
  {
   "cell_type": "markdown",
   "metadata": {},
   "source": [
    "The regex parser was only capable of parsing individual lines but the FParsec parser easily handles multiple lines. It even deals with whitespace!"
   ]
  },
  {
   "cell_type": "code",
   "execution_count": 1,
   "metadata": {},
   "source": [
    "#!fsharp\n",
    "let multiLineInput = \"\"\"\n",
    "\n",
    "\n",
    "9-12 q: qqqxhnhdmqqqqjz\n",
    "\n",
    "12-16z: zzzzzznwlzzjzdzf        4-7s:sssgssw\n",
    "\n",
    "\n",
    "\n",
    "13-14 p: pppqzpppppppfpppp 2-9 m: jknmmmmmmdmmmrm\n",
    "\n",
    "\n",
    "\n",
    "\"\"\"\n",
    "\n",
    "let expectedOutput = [\n",
    "    { FstNumber = 9; SndNumber = 12; Letter = 'q'; Password = \"qqqxhnhdmqqqqjz\" }\n",
    "    { FstNumber = 12; SndNumber = 16; Letter = 'z'; Password = \"zzzzzznwlzzjzdzf\" }\n",
    "    { FstNumber = 4; SndNumber = 7; Letter = 's'; Password = \"sssgssw\" }\n",
    "    { FstNumber = 13; SndNumber = 14; Letter = 'p'; Password = \"pppqzpppppppfpppp\" }\n",
    "    { FstNumber = 2; SndNumber = 9; Letter = 'm'; Password = \"jknmmmmmmdmmmrm\" }\n",
    "]\n",
    "\n",
    "Seq.toList (fparse multiLineInput) = expectedOutput"
   ],
   "outputs": [
    {
     "output_type": "execute_result",
     "data": {
      "text/html": "<div class=\"dni-plaintext\">True</div>"
     },
     "execution_count": 1,
     "metadata": {}
    }
   ]
  },
  {
   "cell_type": "markdown",
   "metadata": {},
   "source": [
    "Note that we can easily compose our new parser in our solution. That's the power of functions right here."
   ]
  },
  {
   "cell_type": "code",
   "execution_count": 1,
   "metadata": {},
   "source": [
    "#!fsharp\n",
    "puzzleInputUrl\n",
    "|> Http.RequestString\n",
    "|> fparse\n",
    "|> Seq.filter policy2 // note that we use the policy2 function here instead of the original policy\n",
    "|> Seq.length"
   ],
   "outputs": [
    {
     "output_type": "execute_result",
     "data": {
      "text/html": "<div class=\"dni-plaintext\">346</div>"
     },
     "execution_count": 1,
     "metadata": {}
    }
   ]
  },
  {
   "cell_type": "markdown",
   "metadata": {},
   "source": [
    "So now I'm wondering which is faster. The regex parser or FParsec?"
   ]
  },
  {
   "cell_type": "code",
   "execution_count": 1,
   "metadata": {},
   "source": [
    "#!fsharp\n",
    "let input = \n",
    "    Http.RequestString puzzleInputUrl\n",
    "    |> List.replicate 100\n",
    "    |> String.concat \"\\n\"\n",
    "\n",
    "// Utility function that allows us to time a function.\n",
    "let time fn =\n",
    "    let timer = new System.Diagnostics.Stopwatch()\n",
    "    timer.Start()\n",
    "    let _returnValue = fn ()\n",
    "\n",
    "    {| \n",
    "        ElapsedMilliseconds = timer.ElapsedMilliseconds\n",
    "        ElapsedTicks = timer.ElapsedTicks\n",
    "    |}\n",
    "\n",
    "// I use Seq.length in the measurements because the regex parser is lazy.\n",
    "{|\n",
    "    RegexParse = time (fun _unit -> input |> parseInput |> Seq.length)\n",
    "    FParsecParse = time (fun _unit -> input |> fparse |> Seq.length)\n",
    "|}\n",
    "\n",
    ""
   ],
   "outputs": [
    {
     "output_type": "execute_result",
     "data": {
      "text/html": "<table><thead><tr><th>FParsecParse</th><th>RegexParse</th></tr></thead><tbody><tr><td><div class=\"dni-plaintext\">{ ElapsedMilliseconds = 45L\n  ElapsedTicks = 45026050L }</div></td><td><div class=\"dni-plaintext\">{ ElapsedMilliseconds = 167L\n  ElapsedTicks = 167639251L }</div></td></tr></tbody></table>"
     },
     "execution_count": 1,
     "metadata": {}
    }
   ]
  },
  {
   "cell_type": "markdown",
   "metadata": {},
   "source": [
    "This result really surprised me. I still don't believe it. It looks like the FParsec parser outperforms the regular expression with ease. That's amazing."
   ]
  }
 ],
 "metadata": {
  "kernelspec": {
   "display_name": ".NET (C#)",
   "language": "C#",
   "name": ".net-csharp"
  },
  "language_info": {
   "file_extension": ".cs",
   "mimetype": "text/x-csharp",
   "name": "C#",
   "pygments_lexer": "csharp",
   "version": "8.0"
  }
 },
 "nbformat": 4,
 "nbformat_minor": 4
}