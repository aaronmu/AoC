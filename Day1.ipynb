{
 "cells": [
  {
   "cell_type": "markdown",
   "metadata": {},
   "source": [
    "# Day 1: Report Repair\n",
    "\n",
    "The Elves in accounting need you to fix your expense report (puzzle input); apperantly, something isn't quite adding up."
   ]
  },
  {
   "cell_type": "markdown",
   "metadata": {},
   "source": [
    "## Part 1\n",
    "\n",
    "Find the two entries that sum to 2020 and then multiple those numbers together."
   ]
  },
  {
   "cell_type": "code",
   "execution_count": 1,
   "metadata": {},
   "source": [
    "#!fsharp\n",
    "let expenseReport = [\n",
    "    1721\n",
    "    979\n",
    "    366\n",
    "    299\n",
    "    675\n",
    "    1456\n",
    "]"
   ],
   "outputs": []
  },
  {
   "cell_type": "markdown",
   "metadata": {},
   "source": [
    "My strategy is to create a sequence of permutations of the entries in the expense report. \n",
    "\n",
    "Googling for permutations in F# yields a bunch of complicated solutions, I wonder what's wrong with a simple for loop."
   ]
  },
  {
   "cell_type": "code",
   "execution_count": 1,
   "metadata": {},
   "source": [
    "#!fsharp\n",
    "module Seq =\n",
    "    let permute2 xs = seq {\n",
    "        let indexed = Seq.indexed xs \n",
    "        for ix, x in indexed do\n",
    "            for iy, y in indexed do\n",
    "                if ix = iy then () else yield [ x; y ]\n",
    "    }"
   ],
   "outputs": []
  },
  {
   "cell_type": "markdown",
   "metadata": {},
   "source": [
    "Note that the permute2 function returns a Sequence of lists. Check the following example."
   ]
  },
  {
   "cell_type": "code",
   "execution_count": 1,
   "metadata": {},
   "source": [
    "#!fsharp\n",
    "Seq.permute2 [ 1; 2; 3 ]"
   ],
   "outputs": [
    {
     "output_type": "execute_result",
     "data": {
      "text/html": "<table><thead><tr><th><i>index</i></th><th>value</th></tr></thead><tbody><tr><td>0</td><td><div class=\"dni-plaintext\">[ 1, 2 ]</div></td></tr><tr><td>1</td><td><div class=\"dni-plaintext\">[ 1, 3 ]</div></td></tr><tr><td>2</td><td><div class=\"dni-plaintext\">[ 2, 1 ]</div></td></tr><tr><td>3</td><td><div class=\"dni-plaintext\">[ 2, 3 ]</div></td></tr><tr><td>4</td><td><div class=\"dni-plaintext\">[ 3, 1 ]</div></td></tr><tr><td>5</td><td><div class=\"dni-plaintext\">[ 3, 2 ]</div></td></tr></tbody></table>"
     },
     "execution_count": 1,
     "metadata": {}
    }
   ]
  },
  {
   "cell_type": "markdown",
   "metadata": {},
   "source": [
    "The reason for using the List data type here is so that I can easily fold the items in the list. Say that we wanted to retrieve all permutations and sum them. Easy, use Seq.sum."
   ]
  },
  {
   "cell_type": "code",
   "execution_count": 1,
   "metadata": {},
   "source": [
    "#!fsharp\n",
    "[ 1; 2; 3 ] |> Seq.permute2 |> Seq.map Seq.sum"
   ],
   "outputs": [
    {
     "output_type": "execute_result",
     "data": {
      "text/html": "<table><thead><tr><th><i>index</i></th><th>value</th></tr></thead><tbody><tr><td>0</td><td><div class=\"dni-plaintext\">3</div></td></tr><tr><td>1</td><td><div class=\"dni-plaintext\">4</div></td></tr><tr><td>2</td><td><div class=\"dni-plaintext\">3</div></td></tr><tr><td>3</td><td><div class=\"dni-plaintext\">5</div></td></tr><tr><td>4</td><td><div class=\"dni-plaintext\">4</div></td></tr><tr><td>5</td><td><div class=\"dni-plaintext\">5</div></td></tr></tbody></table>"
     },
     "execution_count": 1,
     "metadata": {}
    }
   ]
  },
  {
   "cell_type": "code",
   "execution_count": 1,
   "metadata": {},
   "source": [
    "#!fsharp\n",
    "module Seq =\n",
    "    let multiply xs = Seq.fold (*) 1 xs"
   ],
   "outputs": []
  },
  {
   "cell_type": "code",
   "execution_count": 1,
   "metadata": {},
   "source": [
    "#!fsharp\n",
    "expenseReport\n",
    "|> Seq.permute2\n",
    "|> Seq.tryFind (Seq.sum >> (=) 2020)\n",
    "|> Option.map Seq.multiply"
   ],
   "outputs": [
    {
     "output_type": "execute_result",
     "data": {
      "text/html": "<table><thead><tr><th>Value</th></tr></thead><tbody><tr><td><div class=\"dni-plaintext\">514579</div></td></tr></tbody></table>"
     },
     "execution_count": 1,
     "metadata": {}
    }
   ]
  },
  {
   "cell_type": "markdown",
   "metadata": {},
   "source": [
    "## Part 2\n",
    "\n",
    "What is the product of the three entries that sum to 2020?"
   ]
  },
  {
   "cell_type": "code",
   "execution_count": 1,
   "metadata": {},
   "source": [
    "#!fsharp\n",
    "module Seq =\n",
    "    let permute3 xs = seq {\n",
    "        let indexed = Seq.indexed xs \n",
    "        for ix, x in indexed do\n",
    "            for iy, y in indexed do\n",
    "                for iz, z in indexed do\n",
    "                    if List.length (List.distinct [ix; iy; iz]) = 3 \n",
    "                        then yield [ x; y; z]\n",
    "                        else ()\n",
    "    }"
   ],
   "outputs": []
  },
  {
   "cell_type": "code",
   "execution_count": 1,
   "metadata": {},
   "source": [
    "#!fsharp\n",
    "expenseReport\n",
    "|> Seq.permute3\n",
    "|> Seq.tryFind (Seq.sum >> (=) 2020)\n",
    "|> Option.map Seq.multiply"
   ],
   "outputs": [
    {
     "output_type": "execute_result",
     "data": {
      "text/html": "<table><thead><tr><th>Value</th></tr></thead><tbody><tr><td><div class=\"dni-plaintext\">241861950</div></td></tr></tbody></table>"
     },
     "execution_count": 1,
     "metadata": {}
    }
   ]
  }
 ],
 "metadata": {
  "kernelspec": {
   "display_name": ".NET (C#)",
   "language": "C#",
   "name": ".net-csharp"
  },
  "language_info": {
   "file_extension": ".cs",
   "mimetype": "text/x-csharp",
   "name": "C#",
   "pygments_lexer": "csharp",
   "version": "8.0"
  }
 },
 "nbformat": 4,
 "nbformat_minor": 4
}