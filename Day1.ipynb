{
 "cells": [
  {
   "cell_type": "markdown",
   "metadata": {},
   "source": [
    "# Day 1: Report Repair\n",
    "\n",
    "The Elves in accounting need you to fix your expense report (puzzle input); apperantly, something isn't quite adding up."
   ]
  },
  {
   "cell_type": "markdown",
   "metadata": {},
   "source": [
    "## Part 1\n",
    "\n",
    "Find the two entries that sum to 2020 and then multiple those numbers together."
   ]
  },
  {
   "cell_type": "code",
   "execution_count": 1,
   "metadata": {},
   "source": [
    "#!fsharp\n",
    "let expenseReport = [\n",
    "    1721\n",
    "    979\n",
    "    366\n",
    "    299\n",
    "    675\n",
    "    1456\n",
    "]"
   ],
   "outputs": []
  },
  {
   "cell_type": "markdown",
   "metadata": {},
   "source": [
    "My strategy is to create a sequence that contains all the unique ways of taking 2 different elements from the expense report."
   ]
  },
  {
   "cell_type": "code",
   "execution_count": 1,
   "metadata": {},
   "source": [
    "#!fsharp\n",
    "module Seq =\n",
    "    let ``2 element combinations`` xs = seq {\n",
    "        let indexed = Seq.indexed xs \n",
    "        for ix, x in indexed do\n",
    "            for iy, y in indexed do\n",
    "                if ix = iy then () else yield [ x; y ]\n",
    "    }"
   ],
   "outputs": []
  },
  {
   "cell_type": "markdown",
   "metadata": {},
   "source": [
    "Note that the \"2 element combinations\" are represented as lists and not tuples. Using lists makes the 2 element combinations a little bit easier to manipulate using the built in List / Seq functions.\n",
    "\n",
    "In the example below, we calculate all 2 element combinations and then sum those combinations using the built in Seq.map and Seq.sum."
   ]
  },
  {
   "cell_type": "code",
   "execution_count": 1,
   "metadata": {},
   "source": [
    "#!fsharp\n",
    "let input = [1; 2; 3]\n",
    "\n",
    "{|\n",
    "    Input = input\n",
    "    Combinations = Seq.``2 element combinations`` input\n",
    "    Sum = Seq.``2 element combinations`` input |> Seq.map Seq.sum\n",
    "|}"
   ],
   "outputs": [
    {
     "output_type": "execute_result",
     "data": {
      "text/html": "<table><thead><tr><th>Combinations</th><th>Input</th><th>Sum</th></tr></thead><tbody><tr><td><div class=\"dni-plaintext\">[ [ 1, 2 ], [ 1, 3 ], [ 2, 1 ], [ 2, 3 ], [ 3, 1 ], [ 3, 2 ] ]</div></td><td><div class=\"dni-plaintext\">[ 1, 2, 3 ]</div></td><td><div class=\"dni-plaintext\">[ 3, 4, 3, 5, 4, 5 ]</div></td></tr></tbody></table>"
     },
     "execution_count": 1,
     "metadata": {}
    }
   ]
  },
  {
   "cell_type": "markdown",
   "metadata": {},
   "source": [
    "We can easily sum a 2 element combination using Seq.sum, but we'll also need to multiple 2 element combinations."
   ]
  },
  {
   "cell_type": "code",
   "execution_count": 1,
   "metadata": {},
   "source": [
    "#!fsharp\n",
    "module Seq =\n",
    "    let multiply xs = Seq.fold (*) 1 xs"
   ],
   "outputs": []
  },
  {
   "cell_type": "markdown",
   "metadata": {},
   "source": [
    "Let's solve the puzzle."
   ]
  },
  {
   "cell_type": "code",
   "execution_count": 1,
   "metadata": {},
   "source": [
    "#!fsharp\n",
    "let ``2 element combination's sum must equal 2020`` = Seq.sum >> (=) 2020\n",
    "\n",
    "expenseReport\n",
    "|> Seq.``2 element combinations``\n",
    "|> Seq.tryFind ``2 element combination's sum must equal 2020``\n",
    "|> Option.map Seq.multiply"
   ],
   "outputs": [
    {
     "output_type": "execute_result",
     "data": {
      "text/html": "<table><thead><tr><th>Value</th></tr></thead><tbody><tr><td><div class=\"dni-plaintext\">514579</div></td></tr></tbody></table>"
     },
     "execution_count": 1,
     "metadata": {}
    }
   ]
  },
  {
   "cell_type": "markdown",
   "metadata": {},
   "source": [
    "## Part 2\n",
    "\n",
    "What is the product of the three entries that sum to 2020?\n",
    "\n",
    "The difference between Part 1 and Part 2 is that we need to work with three element combinations in part 2 as opposed to two element combinations in part 1."
   ]
  },
  {
   "cell_type": "code",
   "execution_count": 1,
   "metadata": {},
   "source": [
    "#!fsharp\n",
    "module Seq =\n",
    "    let ``3 element combinations`` xs = seq {\n",
    "        let indexed = Seq.indexed xs \n",
    "        for ix, x in indexed do\n",
    "            for iy, y in indexed do\n",
    "                for iz, z in indexed do\n",
    "                    if List.length (List.distinct [ix; iy; iz]) = 3 \n",
    "                        then yield [ x; y; z]\n",
    "                        else ()\n",
    "    }"
   ],
   "outputs": []
  },
  {
   "cell_type": "code",
   "execution_count": 1,
   "metadata": {},
   "source": [
    "#!fsharp\n",
    "expenseReport\n",
    "|> Seq.``3 element combinations``\n",
    "|> Seq.tryFind ``2 element combination's sum must equal 2020``\n",
    "|> Option.map Seq.multiply"
   ],
   "outputs": [
    {
     "output_type": "execute_result",
     "data": {
      "text/html": "<table><thead><tr><th>Value</th></tr></thead><tbody><tr><td><div class=\"dni-plaintext\">241861950</div></td></tr></tbody></table>"
     },
     "execution_count": 1,
     "metadata": {}
    }
   ]
  }
 ],
 "metadata": {
  "kernelspec": {
   "display_name": ".NET (C#)",
   "language": "C#",
   "name": ".net-csharp"
  },
  "language_info": {
   "file_extension": ".cs",
   "mimetype": "text/x-csharp",
   "name": "C#",
   "pygments_lexer": "csharp",
   "version": "8.0"
  }
 },
 "nbformat": 4,
 "nbformat_minor": 4
}