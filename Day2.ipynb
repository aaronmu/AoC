{
 "cells": [
  {
   "cell_type": "markdown",
   "metadata": {},
   "source": [
    "# Day 2: Password Philosophy\n",
    "\n",
    "## Problem\n",
    "\n",
    "Your input is a list of passwords and the corporate policy when that password was set.\n",
    "\n",
    "* 1-3 a: abcde\n",
    "* 1-3 b: cdefg\n",
    "* 2-9 c: ccccccccc\n",
    "\n",
    "Each line gives the password policy and then the password. The password policy indicates the lowest and highest number of times a given letter must appear for the password to be valid. For example, 1-3 a means that the password must contain a at least 1 time and at most 3 times.\n",
    "\n",
    "How many passwords are valid according to their policies?\n",
    "\n",
    "## Part 1 Solution\n",
    "\n",
    "Parsing will be the hardest part of this exercise. I know F# has an excellent parsing library called FParsec but I've never actually tried it before. Let's go!"
   ]
  },
  {
   "cell_type": "code",
   "execution_count": 1,
   "metadata": {},
   "source": [
    "#!fsharp\n",
    "type CheckPassword = {\n",
    "    First: int\n",
    "    Second: int\n",
    "    Letter: char\n",
    "    Password: string\n",
    "}\n",
    "\n",
    "#r \"nuget: FParsec\"\n",
    "\n",
    "module CheckPassword =\n",
    "\n",
    "    let create first second letter password = {\n",
    "        First = first\n",
    "        Second = second\n",
    "        Letter = letter\n",
    "        Password = password\n",
    "    }\n",
    "\n",
    "    open FParsec\n",
    "\n",
    "    let parse x =\n",
    "        let ws = spaces\n",
    "        let str x = pstring x .>> ws\n",
    "        let number = pint32 .>> ws\n",
    "        let matchLetter = letter .>> ws\n",
    "\n",
    "        let parser = \n",
    "            many (\n",
    "                ws >>.                      // skip whitespace\n",
    "                number .>>                  // collect a number\n",
    "                str \"-\" .>>.                // we expect the str \"-\"\n",
    "                number .>>.                 // collect a number\n",
    "                matchLetter .>>             // collect a single letter\n",
    "                str \":\" .>>.                // we expect the str \":\"\n",
    "                manySatisfy isLetter .>>    // collect a sequence of letters\n",
    "                ws                          // skip whitespace\n",
    "            )\n",
    "\n",
    "\n",
    "        // After running the parser, we turn collected value into a CheckPassword.\n",
    "        match run parser x with\n",
    "        | Success (results, _, _) ->\n",
    "            seq {\n",
    "                for (((min, max), theLetter), password) in results do\n",
    "                    create min max theLetter password\n",
    "            }\n",
    "        | Failure (errorMsg, _, _) -> failwith errorMsg\n",
    "\n",
    "// Couple of examples.\n",
    "// The parser handles single line inputs and multi line inputs.\n",
    "// It also deals with whitespace.\n",
    "[\n",
    "    \"1-3 a: abcde\"\n",
    "    \"1-3 b: cdefg\"\n",
    "    \"2-9 c: ccccccccc\"\n",
    "    \"1-3a:abcde\"\n",
    "    \"1-3b:cdefg\"\n",
    "    \"2-9c:ccccccccc\"\n",
    "    \"\"\"\n",
    "    1-3 a: abcde\n",
    "    1-3 b: cdefg\n",
    "    2-9 c: ccccccccc\n",
    "\n",
    "\n",
    "    2-9c:ccccccccc\n",
    "\n",
    "\n",
    "    \"\"\"\n",
    "] |> List.map (fun input -> {| Input = input; Parsed = CheckPassword.parse input|})"
   ],
   "outputs": [
    {
     "output_type": "execute_result",
     "data": {
      "text/html": "<table><thead><tr><th><i>index</i></th><th>Input</th><th>Parsed</th></tr></thead><tbody><tr><td>0</td><td><div class=\"dni-plaintext\">1-3 a: abcde</div></td><td><div class=\"dni-plaintext\">[ { First = 1\n  Second = 3\n  Letter = &#39;a&#39;\n  Password = &quot;abcde&quot; } ]</div></td></tr><tr><td>1</td><td><div class=\"dni-plaintext\">1-3 b: cdefg</div></td><td><div class=\"dni-plaintext\">[ { First = 1\n  Second = 3\n  Letter = &#39;b&#39;\n  Password = &quot;cdefg&quot; } ]</div></td></tr><tr><td>2</td><td><div class=\"dni-plaintext\">2-9 c: ccccccccc</div></td><td><div class=\"dni-plaintext\">[ { First = 2\n  Second = 9\n  Letter = &#39;c&#39;\n  Password = &quot;ccccccccc&quot; } ]</div></td></tr><tr><td>3</td><td><div class=\"dni-plaintext\">1-3a:abcde</div></td><td><div class=\"dni-plaintext\">[ { First = 1\n  Second = 3\n  Letter = &#39;a&#39;\n  Password = &quot;abcde&quot; } ]</div></td></tr><tr><td>4</td><td><div class=\"dni-plaintext\">1-3b:cdefg</div></td><td><div class=\"dni-plaintext\">[ { First = 1\n  Second = 3\n  Letter = &#39;b&#39;\n  Password = &quot;cdefg&quot; } ]</div></td></tr><tr><td>5</td><td><div class=\"dni-plaintext\">2-9c:ccccccccc</div></td><td><div class=\"dni-plaintext\">[ { First = 2\n  Second = 9\n  Letter = &#39;c&#39;\n  Password = &quot;ccccccccc&quot; } ]</div></td></tr><tr><td>6</td><td><div class=\"dni-plaintext\">\n    1-3 a: abcde\n    1-3 b: cdefg\n    2-9 c: ccccccccc\n\n\n    2-9c:ccccccccc\n\n\n    </div></td><td><div class=\"dni-plaintext\">[ { First = 1\n  Second = 3\n  Letter = &#39;a&#39;\n  Password = &quot;abcde&quot; }, { First = 1\n  Second = 3\n  Letter = &#39;b&#39;\n  Password = &quot;cdefg&quot; }, { First = 2\n  Second = 9\n  Letter = &#39;c&#39;\n  Password = &quot;ccccccccc&quot; }, { First = 2\n  Second = 9\n  Letter = &#39;c&#39;\n  Password = &quot;ccccccccc&quot; } ]</div></td></tr></tbody></table>"
     },
     "execution_count": 1,
     "metadata": {}
    }
   ]
  },
  {
   "cell_type": "markdown",
   "metadata": {},
   "source": [
    "Now that we're able to parse the input, let's move on to solving the puzzle."
   ]
  },
  {
   "cell_type": "code",
   "execution_count": 1,
   "metadata": {},
   "source": [
    "#!fsharp\n",
    "module Seq =\n",
    "    let countChar (needle: char) (haystack: string) = \n",
    "        seq {\n",
    "            for c in haystack do\n",
    "                if c = needle then c else ()\n",
    "        } |> Seq.length\n",
    "\n",
    "let check ({ First = first; Second = second; Letter = letter; Password = password }: CheckPassword): bool =\n",
    "    let cnt = Seq.countChar letter password\n",
    "    cnt >= first && cnt <= second\n",
    "\n",
    "\"\"\"\n",
    "1-3 a: abcde\n",
    "1-3 b: cdefg\n",
    "2-9 c: ccccccccc\n",
    "\"\"\"\n",
    "|> CheckPassword.parse\n",
    "|> Seq.filter check\n",
    "|> Seq.length\n",
    ""
   ],
   "outputs": [
    {
     "output_type": "execute_result",
     "data": {
      "text/html": "<div class=\"dni-plaintext\">2</div>"
     },
     "execution_count": 1,
     "metadata": {}
    }
   ]
  },
  {
   "cell_type": "markdown",
   "metadata": {},
   "source": [
    "## Part 2\n",
    "\n",
    "Each policy actually describes two positions in the password, where 1 means the first character, 2 means the second character, and so on. (Be careful; Toboggan Corporate Policies have no concept of \"index zero\"!) Exactly one of these positions must contain the given letter. Other occurrences of the letter are irrelevant for the purposes of policy enforcement."
   ]
  },
  {
   "cell_type": "code",
   "execution_count": 1,
   "metadata": {},
   "source": [
    "#!fsharp\n",
    "module Seq =\n",
    "    // item1 helps with 1 based indexes.\n",
    "    let item1 index = Seq.item (index - 1)\n",
    "\n",
    "let check ({ First = first; Second = second; Letter = letter; Password = password }: CheckPassword): bool =\n",
    "    let letterAtFirstPos = Seq.item1 first password\n",
    "    let letterAtSecondPos = Seq.item1 second password\n",
    "    (letterAtFirstPos = letter) <> (letterAtSecondPos = letter)\n",
    "\n",
    "\"\"\"\n",
    "1-3 a: abcde\n",
    "1-3 b: cdefg\n",
    "2-9 c: ccccccccc\n",
    "\"\"\"\n",
    "|> CheckPassword.parse\n",
    "|> Seq.filter check\n",
    "|> Seq.length"
   ],
   "outputs": [
    {
     "output_type": "execute_result",
     "data": {
      "text/html": "<div class=\"dni-plaintext\">1</div>"
     },
     "execution_count": 1,
     "metadata": {}
    }
   ]
  }
 ],
 "metadata": {
  "kernelspec": {
   "display_name": ".NET (C#)",
   "language": "C#",
   "name": ".net-csharp"
  },
  "language_info": {
   "file_extension": ".cs",
   "mimetype": "text/x-csharp",
   "name": "C#",
   "pygments_lexer": "csharp",
   "version": "8.0"
  }
 },
 "nbformat": 4,
 "nbformat_minor": 4
}